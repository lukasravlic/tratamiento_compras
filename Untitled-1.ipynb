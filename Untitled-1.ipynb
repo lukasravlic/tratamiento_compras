{
 "cells": [
  {
   "cell_type": "code",
   "execution_count": 56,
   "metadata": {},
   "outputs": [],
   "source": [
    "import pandas as pd\n",
    "\n",
    "df_rise = pd.read_excel(\"C:/Users/lravlic/Downloads/compras_rise_2.XLSX\", dtype={'Material':'str'})"
   ]
  },
  {
   "cell_type": "code",
   "execution_count": 58,
   "metadata": {},
   "outputs": [
    {
     "data": {
      "text/plain": [
       "Material\n",
       "11000507      98\n",
       "100043584     45\n",
       "4100000020    35\n",
       "11000980      34\n",
       "100042237     34\n",
       "              ..\n",
       "100012834      1\n",
       "100001923      1\n",
       "100009754      1\n",
       "100010583      1\n",
       "2700002547     1\n",
       "Name: count, Length: 7429, dtype: int64"
      ]
     },
     "execution_count": 58,
     "metadata": {},
     "output_type": "execute_result"
    }
   ],
   "source": [
    "df_rise['Material'].value_counts()"
   ]
  },
  {
   "cell_type": "code",
   "execution_count": 59,
   "metadata": {},
   "outputs": [],
   "source": [
    "df_rise.drop(columns=['Material.1'], inplace=True)\n"
   ]
  },
  {
   "cell_type": "code",
   "execution_count": 63,
   "metadata": {},
   "outputs": [],
   "source": [
    "df_r3 = pd.read_excel(\"C:/Users/lravlic/Downloads/compras r3_2.XLSX\")"
   ]
  },
  {
   "cell_type": "code",
   "execution_count": 64,
   "metadata": {},
   "outputs": [
    {
     "data": {
      "text/plain": [
       "(104348, 28)"
      ]
     },
     "execution_count": 64,
     "metadata": {},
     "output_type": "execute_result"
    }
   ],
   "source": [
    "df_r3.shape"
   ]
  },
  {
   "cell_type": "code",
   "execution_count": 65,
   "metadata": {},
   "outputs": [],
   "source": [
    "df_r3['Mes'] = df_r3['Fecha documento'].dt.month"
   ]
  },
  {
   "cell_type": "code",
   "execution_count": 66,
   "metadata": {},
   "outputs": [
    {
     "data": {
      "text/plain": [
       "Mes\n",
       "1     15012\n",
       "7     10014\n",
       "4     10011\n",
       "11     9625\n",
       "3      9500\n",
       "10     9396\n",
       "8      8990\n",
       "5      8788\n",
       "6      8341\n",
       "2      7534\n",
       "9      7137\n",
       "Name: count, dtype: int64"
      ]
     },
     "execution_count": 66,
     "metadata": {},
     "output_type": "execute_result"
    }
   ],
   "source": [
    "df_r3['Mes'].value_counts()"
   ]
  },
  {
   "cell_type": "code",
   "execution_count": 67,
   "metadata": {},
   "outputs": [],
   "source": [
    "df_rise_reducido = df_rise[['Documento compras', 'Posición', 'Cl.documento compras',\n",
    "       'Fecha documento', 'Grupo de compras', 'Proveedor/Centro suministrador',\n",
    "       'Material', \n",
    "       'Texto breve', 'Cantidad de pedido', 'Unidad medida pedido',\n",
    "       'Precio neto', 'Valor neto de pedido', 'Moneda',\n",
    "       'Por entregar (cantidad)', 'Por entregar (valor)',\n",
    "       'Por calcular (cantidad)', 'Por calcular (valor)',\n",
    "       'Indicador de borrado', 'Centro']]"
   ]
  },
  {
   "cell_type": "code",
   "execution_count": 68,
   "metadata": {},
   "outputs": [
    {
     "name": "stderr",
     "output_type": "stream",
     "text": [
      "C:\\Users\\lravlic\\AppData\\Local\\Temp\\ipykernel_18216\\292764627.py:1: SettingWithCopyWarning: \n",
      "A value is trying to be set on a copy of a slice from a DataFrame.\n",
      "Try using .loc[row_indexer,col_indexer] = value instead\n",
      "\n",
      "See the caveats in the documentation: https://pandas.pydata.org/pandas-docs/stable/user_guide/indexing.html#returning-a-view-versus-a-copy\n",
      "  df_rise_reducido['Nº material proveedor']=\"\"\n",
      "C:\\Users\\lravlic\\AppData\\Local\\Temp\\ipykernel_18216\\292764627.py:2: SettingWithCopyWarning: \n",
      "A value is trying to be set on a copy of a slice from a DataFrame.\n",
      "Try using .loc[row_indexer,col_indexer] = value instead\n",
      "\n",
      "See the caveats in the documentation: https://pandas.pydata.org/pandas-docs/stable/user_guide/indexing.html#returning-a-view-versus-a-copy\n",
      "  df_rise_reducido['Nºmaterial antiguo']=\"\"\n",
      "C:\\Users\\lravlic\\AppData\\Local\\Temp\\ipykernel_18216\\292764627.py:3: SettingWithCopyWarning: \n",
      "A value is trying to be set on a copy of a slice from a DataFrame.\n",
      "Try using .loc[row_indexer,col_indexer] = value instead\n",
      "\n",
      "See the caveats in the documentation: https://pandas.pydata.org/pandas-docs/stable/user_guide/indexing.html#returning-a-view-versus-a-copy\n",
      "  df_rise_reducido['Versión de incoterm']=\"\"\n",
      "C:\\Users\\lravlic\\AppData\\Local\\Temp\\ipykernel_18216\\292764627.py:4: SettingWithCopyWarning: \n",
      "A value is trying to be set on a copy of a slice from a DataFrame.\n",
      "Try using .loc[row_indexer,col_indexer] = value instead\n",
      "\n",
      "See the caveats in the documentation: https://pandas.pydata.org/pandas-docs/stable/user_guide/indexing.html#returning-a-view-versus-a-copy\n",
      "  df_rise_reducido['Vendedor']=\"\"\n",
      "C:\\Users\\lravlic\\AppData\\Local\\Temp\\ipykernel_18216\\292764627.py:5: SettingWithCopyWarning: \n",
      "A value is trying to be set on a copy of a slice from a DataFrame.\n",
      "Try using .loc[row_indexer,col_indexer] = value instead\n",
      "\n",
      "See the caveats in the documentation: https://pandas.pydata.org/pandas-docs/stable/user_guide/indexing.html#returning-a-view-versus-a-copy\n",
      "  df_rise_reducido['Incoterms - ubic.1']=\"\"\n",
      "C:\\Users\\lravlic\\AppData\\Local\\Temp\\ipykernel_18216\\292764627.py:6: SettingWithCopyWarning: \n",
      "A value is trying to be set on a copy of a slice from a DataFrame.\n",
      "Try using .loc[row_indexer,col_indexer] = value instead\n",
      "\n",
      "See the caveats in the documentation: https://pandas.pydata.org/pandas-docs/stable/user_guide/indexing.html#returning-a-view-versus-a-copy\n",
      "  df_rise_reducido['Incoterms - ubic.2']=\"\"\n",
      "C:\\Users\\lravlic\\AppData\\Local\\Temp\\ipykernel_18216\\292764627.py:7: SettingWithCopyWarning: \n",
      "A value is trying to be set on a copy of a slice from a DataFrame.\n",
      "Try using .loc[row_indexer,col_indexer] = value instead\n",
      "\n",
      "See the caveats in the documentation: https://pandas.pydata.org/pandas-docs/stable/user_guide/indexing.html#returning-a-view-versus-a-copy\n",
      "  df_rise_reducido['Incoterms']=\"\"\n"
     ]
    }
   ],
   "source": [
    "df_rise_reducido['Nº material proveedor']=\"\"\n",
    "df_rise_reducido['Nºmaterial antiguo']=\"\"\n",
    "df_rise_reducido['Versión de incoterm']=\"\"\n",
    "df_rise_reducido['Vendedor']=\"\"\n",
    "df_rise_reducido['Incoterms - ubic.1']=\"\"\n",
    "df_rise_reducido['Incoterms - ubic.2']=\"\"\n",
    "df_rise_reducido['Incoterms']=\"\""
   ]
  },
  {
   "cell_type": "code",
   "execution_count": 69,
   "metadata": {},
   "outputs": [],
   "source": [
    "df_rise_reorder = df_rise_reducido[['Documento compras', 'Posición', 'Cl.documento compras',\n",
    "       'Fecha documento', 'Grupo de compras', 'Proveedor/Centro suministrador',\n",
    "       'Material', 'Nº material proveedor', 'Nºmaterial antiguo',\n",
    "       'Texto breve', 'Cantidad de pedido', 'Unidad medida pedido',\n",
    "       'Precio neto', 'Valor neto de pedido', 'Moneda',\n",
    "       'Por entregar (cantidad)', 'Por entregar (valor)',\n",
    "       'Por calcular (cantidad)', 'Por calcular (valor)',\n",
    " 'Indicador de borrado', 'Centro', \n",
    "       'Versión de incoterm', 'Vendedor', 'Incoterms - ubic.1',\n",
    "       'Incoterms - ubic.2', 'Incoterms']]"
   ]
  },
  {
   "cell_type": "code",
   "execution_count": 70,
   "metadata": {},
   "outputs": [],
   "source": [
    "df_consolidado = pd.concat([df_r3,df_rise_reorder])"
   ]
  },
  {
   "cell_type": "code",
   "execution_count": 71,
   "metadata": {},
   "outputs": [],
   "source": [
    "df_consolidado.to_excel('compras_consolidado.xlsx')"
   ]
  },
  {
   "cell_type": "code",
   "execution_count": 33,
   "metadata": {},
   "outputs": [
    {
     "data": {
      "text/plain": [
       "Proveedor/Centro suministrador\n",
       "PU02       DERCO PERU S.A.                     59787\n",
       "40000139   Mazda Motor Corporation             33945\n",
       "40001373   ANHUI JIANGHUAI AUTOMOBILE GROUP    29323\n",
       "40000234   Maruti Suzuki India Ltd.            21202\n",
       "40000176   GREAT WALL MOTOR COMPANY LIMITED    16904\n",
       "                                               ...  \n",
       "40002585   FIGUES HOLDINGS INC                     1\n",
       "96545450-0 Dercomaq S.A                            1\n",
       "10585      AGC Automotive Americas                 1\n",
       "76600685-K COMERCIAL INNOVATEK LIMITADA            1\n",
       "96570750-6 DSV AIR & SEA S.A.                      1\n",
       "Name: count, Length: 147, dtype: int64"
      ]
     },
     "execution_count": 33,
     "metadata": {},
     "output_type": "execute_result"
    }
   ],
   "source": [
    "df_consolidado['Proveedor/Centro suministrador'].value_counts()"
   ]
  },
  {
   "cell_type": "code",
   "execution_count": null,
   "metadata": {},
   "outputs": [],
   "source": [
    "df_mara = pd.read_excel(\"MARA_R3_20240901.xlsx\")"
   ]
  },
  {
   "cell_type": "code",
   "execution_count": null,
   "metadata": {},
   "outputs": [],
   "source": []
  }
 ],
 "metadata": {
  "kernelspec": {
   "display_name": "Python 3",
   "language": "python",
   "name": "python3"
  },
  "language_info": {
   "codemirror_mode": {
    "name": "ipython",
    "version": 3
   },
   "file_extension": ".py",
   "mimetype": "text/x-python",
   "name": "python",
   "nbconvert_exporter": "python",
   "pygments_lexer": "ipython3",
   "version": "3.12.0"
  }
 },
 "nbformat": 4,
 "nbformat_minor": 2
}
